{
 "cells": [
  {
   "cell_type": "code",
   "execution_count": 8,
   "id": "522c7cd8-f6af-4e4e-a25b-cf645ac702c3",
   "metadata": {},
   "outputs": [],
   "source": [
    "#Print nth Fibonacci Sequence\n",
    "n = 0"
   ]
  },
  {
   "cell_type": "code",
   "execution_count": 9,
   "id": "58885834-94a0-49ee-8c7f-7e593a31a54f",
   "metadata": {},
   "outputs": [],
   "source": [
    "#Recursive Fibonacci Algorithm\n",
    "def fibonacci(n):\n",
    "    if n <= 1:\n",
    "        return n\n",
    "    else:\n",
    "        return fibonacci(n-1) + fibonacci(n-2)"
   ]
  },
  {
   "cell_type": "code",
   "execution_count": 10,
   "id": "4147e825-fcb8-4aeb-963b-098d848d2ae5",
   "metadata": {},
   "outputs": [
    {
     "name": "stdout",
     "output_type": "stream",
     "text": [
      "The 0 th Fibonacci number is 0\n"
     ]
    }
   ],
   "source": [
    "print(\"The\",n,\"th Fibonacci number is\", fibonacci(n))"
   ]
  }
 ],
 "metadata": {
  "kernelspec": {
   "display_name": "Python 3 (ipykernel)",
   "language": "python",
   "name": "python3"
  },
  "language_info": {
   "codemirror_mode": {
    "name": "ipython",
    "version": 3
   },
   "file_extension": ".py",
   "mimetype": "text/x-python",
   "name": "python",
   "nbconvert_exporter": "python",
   "pygments_lexer": "ipython3",
   "version": "3.12.3"
  }
 },
 "nbformat": 4,
 "nbformat_minor": 5
}
