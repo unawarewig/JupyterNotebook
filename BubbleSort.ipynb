{
 "cells": [
  {
   "cell_type": "code",
   "execution_count": 58,
   "id": "3f448272-1d91-4629-9a82-d9081d33a0e3",
   "metadata": {},
   "outputs": [],
   "source": [
    "#Input List\n",
    "someList = [27, -44, 23, 48, -2]"
   ]
  },
  {
   "cell_type": "code",
   "execution_count": 59,
   "id": "7f65ec70-6edf-4e8e-b321-b13e068ff887",
   "metadata": {},
   "outputs": [],
   "source": [
    "#Bubble Sort Algorithm\n",
    "def bubbleSort(someList):\n",
    "    for i in range(len(someList)):\n",
    "\n",
    "        for j in range(0, len(someList) - i - 1):\n",
    "    \n",
    "          if someList[j] > someList[j + 1]:\n",
    "\n",
    "            someList[j], someList[j + 1] = someList[j + 1], someList[j]\n",
    "              \n",
    "    return someList"
   ]
  },
  {
   "cell_type": "code",
   "execution_count": 60,
   "id": "f925e0fc-9c05-4d70-b742-a6a0e88751ff",
   "metadata": {},
   "outputs": [
    {
     "name": "stdout",
     "output_type": "stream",
     "text": [
      "The sorted list is [-44, -2, 23, 27, 48]\n"
     ]
    }
   ],
   "source": [
    "sortedList = bubbleSort(someList)\n",
    "print(\"The sorted list is\",sortedList)"
   ]
  }
 ],
 "metadata": {
  "kernelspec": {
   "display_name": "Python 3 (ipykernel)",
   "language": "python",
   "name": "python3"
  },
  "language_info": {
   "codemirror_mode": {
    "name": "ipython",
    "version": 3
   },
   "file_extension": ".py",
   "mimetype": "text/x-python",
   "name": "python",
   "nbconvert_exporter": "python",
   "pygments_lexer": "ipython3",
   "version": "3.12.3"
  }
 },
 "nbformat": 4,
 "nbformat_minor": 5
}
