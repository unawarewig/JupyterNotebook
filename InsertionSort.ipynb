{
 "cells": [
  {
   "cell_type": "code",
   "execution_count": 4,
   "id": "3477865d-1e30-4390-8c3d-f4cc0bb62615",
   "metadata": {},
   "outputs": [],
   "source": [
    "#Input List\n",
    "someList = [27, -44, 23, 48, -2]"
   ]
  },
  {
   "cell_type": "code",
   "execution_count": 5,
   "id": "c5fc1638-11f8-4c66-bb7b-298a8ff39438",
   "metadata": {},
   "outputs": [],
   "source": [
    "#Insertion Sort Algorithm\n",
    "def insertionSort(someList):\n",
    "    for i in range(1, len(someList)):\n",
    "        currentValue = someList[i]\n",
    "        j = i\n",
    "\n",
    "        while j > 0 and someList[j-1] > currentValue:\n",
    "            someList[j] = someList[j - 1]\n",
    "            j -= 1\n",
    "\n",
    "        someList[j] = currentValue\n",
    "\n",
    "    return someList"
   ]
  },
  {
   "cell_type": "code",
   "execution_count": 6,
   "id": "f676b9d7-4f54-4d39-9155-127de21dd3c2",
   "metadata": {},
   "outputs": [
    {
     "name": "stdout",
     "output_type": "stream",
     "text": [
      "The sorted list is [-44, -2, 23, 27, 48]\n"
     ]
    }
   ],
   "source": [
    "sortedList = insertionSort(someList)\n",
    "print(\"The sorted list is\",sortedList)"
   ]
  }
 ],
 "metadata": {
  "kernelspec": {
   "display_name": "Python 3 (ipykernel)",
   "language": "python",
   "name": "python3"
  },
  "language_info": {
   "codemirror_mode": {
    "name": "ipython",
    "version": 3
   },
   "file_extension": ".py",
   "mimetype": "text/x-python",
   "name": "python",
   "nbconvert_exporter": "python",
   "pygments_lexer": "ipython3",
   "version": "3.12.3"
  }
 },
 "nbformat": 4,
 "nbformat_minor": 5
}
