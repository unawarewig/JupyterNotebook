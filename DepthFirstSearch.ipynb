{
 "cells": [
  {
   "cell_type": "code",
   "execution_count": 39,
   "id": "9200c57b-78aa-4121-a831-94de82248d07",
   "metadata": {},
   "outputs": [],
   "source": [
    "graph={\n",
    "'A':['B', 'C'],\n",
    "'B':['D','E'],\n",
    "'C':[],\n",
    "'D':['F'],\n",
    "'E':[],\n",
    "'F':['E']\n",
    "}"
   ]
  },
  {
   "cell_type": "code",
   "execution_count": 40,
   "id": "1d550680-53c6-4062-a150-1086dc56fe04",
   "metadata": {},
   "outputs": [],
   "source": [
    "#Depth First Search Algorithm\n",
    "visited = set()\n",
    "def dfs(visited, graph, node):\n",
    "    if node not in visited:\n",
    "        print (node)\n",
    "        visited.add(node)\n",
    "        for child in graph[node]:\n",
    "            dfs(visited, graph, child)"
   ]
  },
  {
   "cell_type": "code",
   "execution_count": 41,
   "id": "563abf9a-7934-40a7-a8a3-24479fcabc60",
   "metadata": {
    "scrolled": true
   },
   "outputs": [
    {
     "name": "stdout",
     "output_type": "stream",
     "text": [
      "The Depth First Search for the given graph is:\n",
      "A\n",
      "B\n",
      "D\n",
      "F\n",
      "E\n",
      "C\n"
     ]
    }
   ],
   "source": [
    "print(\"The Depth First Search for the given graph is:\")\n",
    "dfs(visited, graph, 'A')"
   ]
  },
  {
   "cell_type": "code",
   "execution_count": null,
   "id": "963d74a5-47fc-4041-8cce-1d5b8fad7b55",
   "metadata": {},
   "outputs": [],
   "source": []
  }
 ],
 "metadata": {
  "kernelspec": {
   "display_name": "Python 3 (ipykernel)",
   "language": "python",
   "name": "python3"
  },
  "language_info": {
   "codemirror_mode": {
    "name": "ipython",
    "version": 3
   },
   "file_extension": ".py",
   "mimetype": "text/x-python",
   "name": "python",
   "nbconvert_exporter": "python",
   "pygments_lexer": "ipython3",
   "version": "3.12.3"
  }
 },
 "nbformat": 4,
 "nbformat_minor": 5
}
