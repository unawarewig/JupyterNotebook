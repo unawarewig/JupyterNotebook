{
 "cells": [
  {
   "cell_type": "code",
   "execution_count": 1,
   "id": "d047896a-24ae-4678-973d-606da095c35b",
   "metadata": {},
   "outputs": [],
   "source": [
    "#Input List\n",
    "someList = [\"index0\", \"index1\", \"index2\", \"index3\", \"index4\"]"
   ]
  },
  {
   "cell_type": "code",
   "execution_count": 8,
   "id": "38ad88c6-474c-464e-8071-1d1d05cb5bea",
   "metadata": {},
   "outputs": [],
   "source": [
    "#Input Target\n",
    "target = \"index5\""
   ]
  },
  {
   "cell_type": "code",
   "execution_count": 9,
   "id": "f9cca75d-96b0-4ce1-8600-11b24d45f7ae",
   "metadata": {},
   "outputs": [
    {
     "name": "stdout",
     "output_type": "stream",
     "text": [
      "The target item is not located in the list.\n"
     ]
    }
   ],
   "source": [
    "for i in range(len(someList)):\n",
    "    if someList[i] == target:\n",
    "        print(\"The target item is located in the list at index\",i,\".\")\n",
    "        break\n",
    "    elif someList[i] != target and i == len(someList) - 1:\n",
    "        print(\"The target item is not located in the list.\")"
   ]
  }
 ],
 "metadata": {
  "kernelspec": {
   "display_name": "Python 3 (ipykernel)",
   "language": "python",
   "name": "python3"
  },
  "language_info": {
   "codemirror_mode": {
    "name": "ipython",
    "version": 3
   },
   "file_extension": ".py",
   "mimetype": "text/x-python",
   "name": "python",
   "nbconvert_exporter": "python",
   "pygments_lexer": "ipython3",
   "version": "3.12.3"
  }
 },
 "nbformat": 4,
 "nbformat_minor": 5
}
