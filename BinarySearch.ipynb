{
 "cells": [
  {
   "cell_type": "code",
   "execution_count": 34,
   "id": "20b21b75-0562-4e0d-a2f1-042b56e8a5e2",
   "metadata": {},
   "outputs": [],
   "source": [
    "#Input List\n",
    "someList = [-3,-2,0,1,2,3]"
   ]
  },
  {
   "cell_type": "code",
   "execution_count": 38,
   "id": "541516a7-7213-4523-ac41-817c77092034",
   "metadata": {},
   "outputs": [],
   "source": [
    "#Input Target\n",
    "target = 1"
   ]
  },
  {
   "cell_type": "code",
   "execution_count": 39,
   "id": "35630ef3-037e-46f5-af27-7bbfe3b3453a",
   "metadata": {},
   "outputs": [],
   "source": [
    "#Binary Search Algorithm\n",
    "def binarySearch(someList, target):\n",
    "    low = 0\n",
    "    high = len(someList) - 1\n",
    "    middle = 0\n",
    "     \n",
    "    while low <= high:\n",
    "        middle = (high + low) // 2\n",
    "        if someList[middle] < target:\n",
    "            low = middle + 1\n",
    "        elif someList[middle] > target:\n",
    "            high = middle - 1\n",
    "        else:\n",
    "            return(middle)\n",
    "\n",
    "    return -1"
   ]
  },
  {
   "cell_type": "code",
   "execution_count": 40,
   "id": "93bd5f58-5bfb-40b2-96e9-d0a9a6e9023a",
   "metadata": {},
   "outputs": [
    {
     "name": "stdout",
     "output_type": "stream",
     "text": [
      "The target is located at index 3 in the input list.\n"
     ]
    }
   ],
   "source": [
    "output = binarySearch(someList, target)\n",
    "match output:\n",
    "    case -1:\n",
    "        print(\"The target is not located in the input list.\")\n",
    "    case _:\n",
    "        print(\"The target is located at index\",output,\"in the input list.\")"
   ]
  }
 ],
 "metadata": {
  "kernelspec": {
   "display_name": "Python 3 (ipykernel)",
   "language": "python",
   "name": "python3"
  },
  "language_info": {
   "codemirror_mode": {
    "name": "ipython",
    "version": 3
   },
   "file_extension": ".py",
   "mimetype": "text/x-python",
   "name": "python",
   "nbconvert_exporter": "python",
   "pygments_lexer": "ipython3",
   "version": "3.12.3"
  }
 },
 "nbformat": 4,
 "nbformat_minor": 5
}
